{
 "metadata": {
  "language_info": {
   "codemirror_mode": {
    "name": "ipython",
    "version": 3
   },
   "file_extension": ".py",
   "mimetype": "text/x-python",
   "name": "python",
   "nbconvert_exporter": "python",
   "pygments_lexer": "ipython3",
   "version": "3.8.3-final"
  },
  "orig_nbformat": 2,
  "kernelspec": {
   "name": "python3",
   "display_name": "Python 3"
  }
 },
 "nbformat": 4,
 "nbformat_minor": 2,
 "cells": [
  {
   "cell_type": "code",
   "execution_count": 8,
   "metadata": {},
   "outputs": [],
   "source": [
    "from pymavlink import mavutil\n",
    "import time\n",
    "from datetime import datetime, timezone\n",
    "from influxdb import InfluxDBClient\n"
   ]
  },
  {
   "cell_type": "code",
   "execution_count": 9,
   "metadata": {},
   "outputs": [],
   "source": [
    "master = mavutil.mavlink_connection('udp:localhost:14550')\n",
    "master.wait_heartbeat()\n",
    "time.sleep(2)"
   ]
  },
  {
   "cell_type": "code",
   "execution_count": 10,
   "metadata": {},
   "outputs": [],
   "source": [
    "client = InfluxDBClient(host='192.168.0.99', port=8086)"
   ]
  },
  {
   "cell_type": "code",
   "execution_count": 11,
   "metadata": {},
   "outputs": [
    {
     "output_type": "stream",
     "name": "stdout",
     "text": [
      "[{'name': '_internal'}, {'name': 'pyexample'}]\n"
     ]
    }
   ],
   "source": [
    "client.create_database('pyexample')\n",
    "print(client.get_list_database())\n",
    "client.switch_database('pyexample')"
   ]
  },
  {
   "cell_type": "code",
   "execution_count": 14,
   "metadata": {
    "tags": []
   },
   "outputs": [
    {
     "output_type": "error",
     "ename": "KeyboardInterrupt",
     "evalue": "",
     "traceback": [
      "\u001b[1;31m---------------------------------------------------------------------------\u001b[0m",
      "\u001b[1;31mKeyboardInterrupt\u001b[0m                         Traceback (most recent call last)",
      "\u001b[1;32m<ipython-input-14-c3cf7d771fb1>\u001b[0m in \u001b[0;36m<module>\u001b[1;34m\u001b[0m\n\u001b[0;32m     19\u001b[0m     \u001b[0mclient\u001b[0m\u001b[1;33m.\u001b[0m\u001b[0mwrite_points\u001b[0m\u001b[1;33m(\u001b[0m\u001b[0mjson_body\u001b[0m\u001b[1;33m)\u001b[0m\u001b[1;33m\u001b[0m\u001b[1;33m\u001b[0m\u001b[0m\n\u001b[0;32m     20\u001b[0m \u001b[1;33m\u001b[0m\u001b[0m\n\u001b[1;32m---> 21\u001b[1;33m     \u001b[0mtime\u001b[0m\u001b[1;33m.\u001b[0m\u001b[0msleep\u001b[0m\u001b[1;33m(\u001b[0m\u001b[1;36m1\u001b[0m\u001b[1;33m)\u001b[0m\u001b[1;33m\u001b[0m\u001b[1;33m\u001b[0m\u001b[0m\n\u001b[0m",
      "\u001b[1;31mKeyboardInterrupt\u001b[0m: "
     ]
    }
   ],
   "source": [
    "while True:\n",
    "    master.wait_heartbeat()\n",
    "\n",
    "    # Get data from mavlink\n",
    "    mavlink_data = master.recv_match(type=['VFR_HUD'])\n",
    "\n",
    "    # local time in RFC 3339 format\n",
    "    local_time = datetime.now(timezone.utc).astimezone().isoformat()\n",
    "    #print(local_time)\n",
    "\n",
    "    dict_body = {}\n",
    "    dict_body[\"measurement\"] = mavlink_data._type\n",
    "    dict_body[\"time\"] = local_time\n",
    "    dict_body[\"fields\"] = mavlink_data.to_dict()\n",
    "\n",
    "    json_body = [dict_body]\n",
    "\n",
    "    #print(json_body)\n",
    "    client.write_points(json_body)\n",
    "\n",
    "    time.sleep(1)"
   ]
  },
  {
   "cell_type": "code",
   "execution_count": 7,
   "metadata": {},
   "outputs": [],
   "source": [
    "master.close()"
   ]
  },
  {
   "cell_type": "code",
   "execution_count": 15,
   "metadata": {},
   "outputs": [
    {
     "output_type": "execute_result",
     "data": {
      "text/plain": [
       "<pymavlink.dialects.v20.ardupilotmega.MAVLink_heartbeat_message at 0x15909738a60>"
      ]
     },
     "metadata": {},
     "execution_count": 15
    }
   ],
   "source": [
    "master.wait_heartbeat()"
   ]
  },
  {
   "cell_type": "code",
   "execution_count": 17,
   "metadata": {},
   "outputs": [
    {
     "output_type": "stream",
     "name": "stdout",
     "text": [
      "ATTITUDE {time_boot_ms : 1438720, roll : -0.0018581367330625653, pitch : -0.05388554930686951, yaw : -0.20174238085746765, rollspeed : -0.02288021333515644, pitchspeed : 0.0014760567573830485, yawspeed : -0.0032845246605575085}\n"
     ]
    }
   ],
   "source": [
    "print(mavlink_data)"
   ]
  }
 ]
}