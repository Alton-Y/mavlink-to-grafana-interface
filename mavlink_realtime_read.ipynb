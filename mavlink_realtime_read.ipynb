{
 "metadata": {
  "language_info": {
   "codemirror_mode": {
    "name": "ipython",
    "version": 3
   },
   "file_extension": ".py",
   "mimetype": "text/x-python",
   "name": "python",
   "nbconvert_exporter": "python",
   "pygments_lexer": "ipython3",
   "version": "3.8.3-final"
  },
  "orig_nbformat": 2,
  "kernelspec": {
   "name": "python3",
   "display_name": "Python 3"
  }
 },
 "nbformat": 4,
 "nbformat_minor": 2,
 "cells": [
  {
   "cell_type": "code",
   "execution_count": null,
   "metadata": {},
   "outputs": [],
   "source": [
    "from pymavlink import mavutil\n",
    "import time\n",
    "from datetime import datetime, timezone\n",
    "from influxdb import InfluxDBClient\n",
    "import math\n"
   ]
  },
  {
   "cell_type": "code",
   "execution_count": null,
   "metadata": {},
   "outputs": [],
   "source": [
    "master = mavutil.mavlink_connection('udp:localhost:14551')\n",
    "master.wait_heartbeat()\n",
    "time.sleep(2)"
   ]
  },
  {
   "cell_type": "code",
   "execution_count": null,
   "metadata": {},
   "outputs": [],
   "source": [
    "client = InfluxDBClient(host='192.168.0.99', port=8086)\n",
    "# client.drop_database('CREATEV')\n",
    "client.create_database('CREATEV')\n",
    "print(client.get_list_database())\n",
    "client.switch_database('CREATEV')"
   ]
  },
  {
   "cell_type": "code",
   "execution_count": null,
   "metadata": {},
   "outputs": [],
   "source": [
    "class MavlinkData:\n",
    "    def __init__ (self, mavlink_data):\n",
    "        if (mavlink_data is None):\n",
    "            self.data = None\n",
    "            return None\n",
    "\n",
    "        self.type_capture = ['AHRS3','AIRSPEED_AUTOCAL','AOA_SSA','ATTITUDE','BATTERY2','EKF_STATUS_REPORT','RC_CHANNELS','SERVO_OUTPUT_RAW','VFR_HUD','WIND','POWER_STATUS','NAV_CONTROLLER_OUTPUT','HEARTBEAT','GLOBAL_POSITION_INT','GPS_RAW_INT','GPS2_RAW','BATTERY_STATUS','SYS_STATUS','SYSTEM_TIME','PARAM_VALUE']\n",
    "\n",
    "        #self.type_special = ['NAMED_VALUE_FLOAT']\n",
    "\n",
    "        if mavlink_data._type in self.type_capture:\n",
    "            self.data = mavlink_data\n",
    "        else:\n",
    "            self.data = None\n",
    "\n",
    "    def MavlinkData(self):\n",
    "        return self.data\n",
    "\n",
    "    def _process_battery_status(self):\n",
    "        data_dict = {}\n",
    "        data_dict[\"voltage_1\"] = self.data.voltages[0]/1000\n",
    "        data_dict[\"voltage_2\"] = self.data.voltages[1]/1000\n",
    "        data_dict[\"voltage_3\"] = self.data.voltages[2]/1000\n",
    "        data_dict[\"voltage_4\"] = self.data.voltages[3]/1000\n",
    "        data_dict[\"voltage_5\"] = self.data.voltages[4]/1000\n",
    "        data_dict[\"voltage_6\"] = self.data.voltages[5]/1000\n",
    "\n",
    "        # MPPT\n",
    "        data_dict[\"mppt_temperature\"] = (int(self.data.temperature)/10)+2731 # degC\n",
    "        data_dict[\"charge_current\"]   = math.floor((65534-int(self.data.current_consumed)) / 100) / 10 # Amp (VE_current_A)\n",
    "        data_dict[\"charge_voltage\"]   = (65534-int(self.data.current_consumed)) - data_dict[\"charge_current\"]*1000 # Volt (VE_voltage_V)\n",
    "        data_dict[\"charge_power\"]     = data_dict[\"charge_current\"] * data_dict[\"charge_voltage\"]\n",
    "\n",
    "        # Solar Array \n",
    "        data_dict[\"solar_voltage\"]    = -math.floor(int(self.data.current_battery)/100*3) # Volt          (VE_vpv_V)\n",
    "        data_dict[\"solar_power\"]      = -(int(self.data.current_battery) - (int(self.data.current_battery/100)*100)) *4 # W (VE_ppv_W)\n",
    "        data_dict[\"solar_current\"]    = data_dict[\"solar_power\"]/data_dict[\"solar_voltage\"]\n",
    "\n",
    "        # Battery\n",
    "        data_dict[\"battery_voltage\"]  = sum(self.data.voltages[0:6])/1000\n",
    "        data_dict[\"battery_current\"]  = (int(self.data.current_battery)/100) - data_dict[\"charge_current\"]\n",
    "        data_dict[\"battery_power\"]    = data_dict[\"battery_voltage\"] * data_dict[\"battery_current\"]\n",
    "        # Load\n",
    "\n",
    "        return data_dict\n",
    "\n",
    "    def to_influx_db(self):\n",
    "        if self.data is None:\n",
    "            return None\n",
    "        else:\n",
    "            dict_body = {}\n",
    "            dict_body[\"measurement\"] = self.data._type\n",
    "            # local time in RFC 3339 format\n",
    "            dict_body[\"time\"]        = datetime.now(timezone.utc).astimezone().isoformat()\n",
    "            dict_body[\"fields\"]      = self.data.to_dict()\n",
    "            \n",
    "            if self.data._type is 'PARAM_VALUE':\n",
    "                dict_body[\"tags\"] = {\"param_id\": dict_body[\"fields\"][\"param_id\"]}\n",
    "\n",
    "            if self.data._type is 'BATTERY_STATUS':\n",
    "                if (self.data.id == 2):\n",
    "                    dict_body[\"fields\"] = self._process_battery_status()\n",
    "                    dict_body[\"measurement\"] = \"CREATEV_ELEC\"\n",
    "                    #print((self.data.current_battery))\n",
    "                    #print(dict_body)\n",
    "                else:\n",
    "                    dict_body[\"fields\"][\"voltages\"] = dict_body[\"fields\"][\"voltages\"][0]\n",
    "                    dict_body[\"measurement\"] = \"BATTERY_STATUS_\"+str(self.data.id)\n",
    "\n",
    "\n",
    "            return [dict_body]\n"
   ]
  },
  {
   "cell_type": "code",
   "execution_count": null,
   "metadata": {
    "tags": []
   },
   "outputs": [],
   "source": [
    "while True:\n",
    "    # Get data from mavlink\n",
    "    mavlink_data = MavlinkData(master.recv_msg())\n",
    "    #mavlink_data.to_influx_db()\n",
    "    influxdb_point = mavlink_data.to_influx_db()\n",
    "    if influxdb_point is not None:\n",
    "        client.write_points(influxdb_point)\n",
    "        #print(influxdb_point)"
   ]
  },
  {
   "cell_type": "code",
   "execution_count": null,
   "metadata": {},
   "outputs": [],
   "source": [
    "master.close()"
   ]
  },
  {
   "cell_type": "code",
   "execution_count": null,
   "metadata": {
    "tags": []
   },
   "outputs": [],
   "source": [
    "# mlog.rewind()\n",
    "# while (True):\n",
    "#     # Get data from mavlink\n",
    "#     mavlink_data = MavlinkData(mlog.recv_msg())\n",
    "#     #mavlink_data.to_influx_db()\n",
    "#     influxdb_point = mavlink_data.to_influx_db()\n",
    "\n",
    "#     if influxdb_point is not None:\n",
    "#         influxdb_point[0][\"time\"] = datetime.utcfromtimestamp(mlog.timestamp).isoformat()\n",
    "#         client.write_points(influxdb_point)\n"
   ]
  },
  {
   "cell_type": "code",
   "execution_count": null,
   "metadata": {
    "tags": []
   },
   "outputs": [],
   "source": [
    "while (True):\n",
    "#     # Get data from mavlink\n",
    "    mavlink_data = master.recv_match(type='PARAM_VALUE')\n",
    "    if mavlink_data is not None:\n",
    "        print(mavlink_data)"
   ]
  }
 ]
}