{
 "metadata": {
  "language_info": {
   "codemirror_mode": {
    "name": "ipython",
    "version": 3
   },
   "file_extension": ".py",
   "mimetype": "text/x-python",
   "name": "python",
   "nbconvert_exporter": "python",
   "pygments_lexer": "ipython3",
   "version": "3.8.3-final"
  },
  "orig_nbformat": 2,
  "kernelspec": {
   "name": "python3",
   "display_name": "Python 3"
  }
 },
 "nbformat": 4,
 "nbformat_minor": 2,
 "cells": [
  {
   "cell_type": "code",
   "execution_count": 165,
   "metadata": {},
   "outputs": [],
   "source": [
    "import time\n",
    "from math import cos, sin, asin, pi, floor, atan2, tan, degrees\n",
    "from datetime import datetime, timezone, timedelta\n",
    "\n",
    "class SolarPosition:\n",
    "    def __init__(self, GMTdatetime, Latitude, Longitude):\n",
    "\n",
    "        theta = radians(Longitude); # convert Longitude input to radians\n",
    "        psi = radians(Latitude); # convert Latitude input to radians\n",
    "\n",
    "        # Grena 2012. Sec.3.1 - Starting point: time scale computation\n",
    "        # t = datenum(y,m,d,h,0,0)-datenum(2060,0,0)-1; % identical to Grena 2012. p.1329 Eq.2\n",
    "        t = GMTdatetime - datetime(2060,1,1)\n",
    "        t = t.total_seconds()/24/60/60 # convert datetime to float days\n",
    "\n",
    "        dtau = 96.4 + 0.00158 * t; #Grena 2012. p.1325 Eq.1\n",
    "        te = t + 1.1574e-5 * dtau; #Grena 2012. p.1329 Eq.3    \n",
    "\n",
    "        # Grena 2012. Sec.3.2 - Algorithm 1\n",
    "        omega = 0.017202786; #[day^-1]\n",
    "\n",
    "        alpha = -1.38880 + 1.72027920e-2*te \\\n",
    "            + 3.199e-2*sin(omega*te) - 2.65e-3*cos(omega*te) \\\n",
    "            + 4.050e-2*sin(2*omega*te) + 1.525e-2*cos(2*omega*te)  #Grena 2012. p.1329 Eq.4\n",
    "\n",
    "        delta = 6.57e-3 + 7.347e-2*sin(omega*te) - 3.9919e-1*cos(omega*te) \\\n",
    "            + 7.3e-4*sin(2*omega*te) - 6.6e-3*cos(2*omega*te);  #Grena 2012. p.1329 Eq.5\n",
    "\n",
    "        H = 1.75283 + 6.3003881*t + theta - alpha\n",
    "        H = (H + pi)%(2.*pi) - pi  #H = mod(H + pi, 2.*pi) - pi\n",
    "\n",
    "        e0 = asin(sin(psi)*sin(delta) + cos(psi)*cos(delta)*cos(H)) #Grena 2012. p.1332 Eq.21\n",
    "        dpe = -4.26e-5*cos(e0) #Grena 2012. p.1332 Eq.22\n",
    "        ep = e0 + dpe # elevation of the sun\n",
    "        Gamma = atan2(sin(H),cos(H)*sin(psi)-tan(delta)*cos(psi)) #Grena 2012. p.1332 Eq.23\n",
    "        Z = pi/2 - ep #Grena 2012. p.1332 Eq.25\n",
    "\n",
    "        zenith = degrees(Z)\n",
    "        elevation = degrees(ep)  # Elevation Angle in degrees\n",
    "        azimuth = degrees(Gamma) # Azimuthal angle on the horizontal plane, 0 towards south, +ve towards west, and -ve towards east.\n",
    "        heading = (azimuth+180) % 360 # Calculate heading bearing by adding 180 degrees to Azimuthal angle\n",
    "\n",
    "        #[x,y,z] = sph2cart(az,elev,r)\n",
    "        #sph2cart(-pi/2-Gamma, ep, 1)\n",
    "        r = 1\n",
    "        z = r * sin(ep)\n",
    "        rcoselev = r * cos(ep)\n",
    "        x = rcoselev * cos(-pi/2-Gamma)\n",
    "        y = rcoselev * sin(-pi/2-Gamma)\n",
    "        \n",
    "        x = -x\n",
    "        y = -y\n",
    "        z = -z\n",
    "\n",
    "        self.zenith = zenith\n",
    "        self.elevation = elevation\n",
    "        self.azimuth = azimuth\n",
    "        self.heading = heading\n",
    "        self.uvec = [x, y, z]\n",
    " \n",
    "\n",
    "\n",
    "\n"
   ]
  },
  {
   "cell_type": "code",
   "execution_count": 166,
   "metadata": {},
   "outputs": [
    {
     "output_type": "stream",
     "name": "stdout",
     "text": [
      "[0.2391088177045052, 0.8534603710129635, -0.4630684273478039]\n"
     ]
    }
   ],
   "source": [
    "\n",
    "GMTdatetime = datetime(2020, 11, 9, 18, 0, 0)\n",
    "Latitude  =  43.747156\n",
    "Longitude = -79.475769\n",
    "\n",
    "solarPosition = SolarPosition(GMTdatetime, Latitude, Longitude)\n",
    "print(solarPosition.uvec)"
   ]
  }
 ]
}